{
 "cells": [
  {
   "cell_type": "code",
   "execution_count": 12,
   "metadata": {},
   "outputs": [
    {
     "name": "stdout",
     "output_type": "stream",
     "text": [
      "\n",
      "--- Info Dataset ---\n",
      "<class 'pandas.core.frame.DataFrame'>\n",
      "RangeIndex: 374 entries, 0 to 373\n",
      "Data columns (total 13 columns):\n",
      " #   Column                   Non-Null Count  Dtype  \n",
      "---  ------                   --------------  -----  \n",
      " 0   Person ID                374 non-null    int64  \n",
      " 1   Gender                   374 non-null    object \n",
      " 2   Age                      374 non-null    int64  \n",
      " 3   Occupation               374 non-null    object \n",
      " 4   Sleep Duration           374 non-null    float64\n",
      " 5   Quality of Sleep         374 non-null    int64  \n",
      " 6   Physical Activity Level  374 non-null    int64  \n",
      " 7   Stress Level             374 non-null    int64  \n",
      " 8   BMI Category             374 non-null    object \n",
      " 9   Blood Pressure           374 non-null    object \n",
      " 10  Heart Rate               374 non-null    int64  \n",
      " 11  Daily Steps              374 non-null    int64  \n",
      " 12  Sleep Disorder           155 non-null    object \n",
      "dtypes: float64(1), int64(7), object(5)\n",
      "memory usage: 38.1+ KB\n",
      "None\n",
      "\n",
      "--- Statistik Deskriptif ---\n",
      "        Person ID         Age  Sleep Duration  Quality of Sleep  \\\n",
      "count  374.000000  374.000000      374.000000        374.000000   \n",
      "mean   187.500000   42.184492        7.132086          7.312834   \n",
      "std    108.108742    8.673133        0.795657          1.196956   \n",
      "min      1.000000   27.000000        5.800000          4.000000   \n",
      "25%     94.250000   35.250000        6.400000          6.000000   \n",
      "50%    187.500000   43.000000        7.200000          7.000000   \n",
      "75%    280.750000   50.000000        7.800000          8.000000   \n",
      "max    374.000000   59.000000        8.500000          9.000000   \n",
      "\n",
      "       Physical Activity Level  Stress Level  Heart Rate   Daily Steps  \n",
      "count               374.000000    374.000000  374.000000    374.000000  \n",
      "mean                 59.171123      5.385027   70.165775   6816.844920  \n",
      "std                  20.830804      1.774526    4.135676   1617.915679  \n",
      "min                  30.000000      3.000000   65.000000   3000.000000  \n",
      "25%                  45.000000      4.000000   68.000000   5600.000000  \n",
      "50%                  60.000000      5.000000   70.000000   7000.000000  \n",
      "75%                  75.000000      7.000000   72.000000   8000.000000  \n",
      "max                  90.000000      8.000000   86.000000  10000.000000  \n"
     ]
    },
    {
     "data": {
      "image/png": "[encoded data removed]",
      "text/plain": [
       "<Figure size 600x400 with 1 Axes>"
      ]
     },
     "metadata": {},
     "output_type": "display_data"
    }
   ],
   "source": [
    "# Import library\n",
    "import pandas as pd\n",
    "import matplotlib.pyplot as plt\n",
    "import seaborn as sns\n",
    "\n",
    "# Load dataset\n",
    "df = pd.read_csv(\"Sleep_Health_and_Lifestyle_Dataset.csv\")\n",
    "\n",
    "# ====== 1. Info Dataset ======\n",
    "print(\"\\n--- Info Dataset ---\")\n",
    "print(df.info())\n",
    "\n",
    "# ====== 2. Statistik Deskriptif ======\n",
    "print(\"\\n--- Statistik Deskriptif ---\")\n",
    "print(df.describe())\n",
    "\n",
    "# ====== 3. Scatterplot Sleep Duration vs Stress Level ======\n",
    "plt.figure(figsize=(6,4))\n",
    "sns.scatterplot(x=df[\"Sleep Duration\"], y=df[\"Stress Level\"])\n",
    "plt.title(\"Scatterplot: Sleep Duration vs Stress Level\")\n",
    "plt.xlabel(\"Sleep Duration (hours)\")\n",
    "plt.ylabel(\"Stress Level\")\n",
    "plt.grid(True)\n",
    "plt.show()\n"
   ]
  },
  {
   "cell_type": "code",
   "execution_count": 16,
   "metadata": {},
   "outputs": [
    {
     "name": "stdout",
     "output_type": "stream",
     "text": [
      "=== Evaluasi Model ===\n",
      "R-squared (R²): 0.7083\n",
      "Root Mean Squared Error (RMSE): 0.9546\n",
      "\n",
      "=== Persamaan Regresi ===\n",
      "Intercept (a): 18.1659\n",
      "Koefisien (b): -1.7963\n",
      "Persamaan: Stress Level = 18.1659 + -1.7963 * Sleep Duration\n"
     ]
    }
   ],
   "source": [
    "# Import library\n",
    "import pandas as pd\n",
    "from sklearn.model_selection import train_test_split\n",
    "from sklearn.linear_model import LinearRegression\n",
    "from sklearn.metrics import mean_squared_error, r2_score\n",
    "import numpy as np\n",
    "\n",
    "# Load dataset\n",
    "df = pd.read_csv(\"Sleep_Health_and_Lifestyle_Dataset.csv\")\n",
    "\n",
    "# Pilih variabel X dan y\n",
    "X = df[[\"Sleep Duration\"]]   # variabel independen\n",
    "y = df[\"Stress Level\"]       # variabel dependen\n",
    "\n",
    "# Split data (80% train, 20% test)\n",
    "X_train, X_test, y_train, y_test = train_test_split(X, y, test_size=0.2, random_state=42)\n",
    "\n",
    "# Buat model regresi linear\n",
    "model = LinearRegression()\n",
    "\n",
    "# Latih model\n",
    "model.fit(X_train, y_train)\n",
    "\n",
    "# Prediksi di data test\n",
    "y_pred = model.predict(X_test)\n",
    "\n",
    "# Evaluasi model\n",
    "r2 = r2_score(y_test, y_pred)\n",
    "rmse = np.sqrt(mean_squared_error(y_test, y_pred))\n",
    "\n",
    "print(\"=== Evaluasi Model ===\")\n",
    "print(f\"R-squared (R²): {r2:.4f}\")\n",
    "print(f\"Root Mean Squared Error (RMSE): {rmse:.4f}\")\n",
    "\n",
    "# Koefisien & Intercept\n",
    "print(\"\\n=== Persamaan Regresi ===\")\n",
    "print(f\"Intercept (a): {model.intercept_:.4f}\")\n",
    "print(f\"Koefisien (b): {model.coef_[0]:.4f}\")\n",
    "print(f\"Persamaan: Stress Level = {model.intercept_:.4f} + {model.coef_[0]:.4f} * Sleep Duration\")\n"
   ]
  },
  {
   "cell_type": "code",
   "execution_count": 17,
   "metadata": {},
   "outputs": [
    {
     "name": "stdout",
     "output_type": "stream",
     "text": [
      "✅ Model berhasil disimpan ke file: regresi_sleep_stress.pkl\n",
      "Prediksi Stress Level jika tidur 7 jam: 5.59\n"
     ]
    },
    {
     "name": "stderr",
     "output_type": "stream",
     "text": [
      "c:\\Users\\HD\\miniforge3\\Lib\\site-packages\\sklearn\\utils\\validation.py:2749: UserWarning: X does not have valid feature names, but LinearRegression was fitted with feature names\n",
      "  warnings.warn(\n"
     ]
    }
   ],
   "source": [
    "import joblib\n",
    "\n",
    "# Simpan model ke file .pkl\n",
    "joblib.dump(model, \"regresi_sleep_stress.pkl\")\n",
    "print(\"✅ Model berhasil disimpan ke file: regresi_sleep_stress.pkl\")\n",
    "\n",
    "# Contoh cara load model lagi\n",
    "loaded_model = joblib.load(\"regresi_sleep_stress.pkl\")\n",
    "\n",
    "# Uji prediksi (misal: tidur 7 jam)\n",
    "test_value = [[7.0]]\n",
    "prediction = loaded_model.predict(test_value)\n",
    "print(f\"Prediksi Stress Level jika tidur 7 jam: {prediction[0]:.2f}\")\n"
   ]
  }
 ],
 "metadata": {
  "kernelspec": {
   "display_name": "base",
   "language": "python",
   "name": "python3"
  },
  "language_info": {
   "codemirror_mode": {
    "name": "ipython",
    "version": 3
   },
   "file_extension": ".py",
   "mimetype": "text/x-python",
   "name": "python",
   "nbconvert_exporter": "python",
   "pygments_lexer": "ipython3",
   "version": "3.12.5"
  }
 },
 "nbformat": 4,
 "nbformat_minor": 2
}
